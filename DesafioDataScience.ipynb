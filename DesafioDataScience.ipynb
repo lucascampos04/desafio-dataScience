{
  "nbformat": 4,
  "nbformat_minor": 0,
  "metadata": {
    "colab": {
      "provenance": []
    },
    "kernelspec": {
      "name": "python3",
      "display_name": "Python 3"
    },
    "language_info": {
      "name": "python"
    }
  },
  "cells": [
    {
      "cell_type": "code",
      "execution_count": 1,
      "metadata": {
        "id": "IYvMoE5SccOu"
      },
      "outputs": [],
      "source": [
        "import pandas as pd\n",
        "import matplotlib.pyplot as plt\n"
      ]
    },
    {
      "cell_type": "code",
      "source": [
        "df = pd.read_csv('dataset.csv')\n",
        "df.shape"
      ],
      "metadata": {
        "id": "CgR8a6pTegEW"
      },
      "execution_count": null,
      "outputs": []
    },
    {
      "cell_type": "code",
      "source": [
        "for i in df.columns:\n",
        "  print(i)"
      ],
      "metadata": {
        "colab": {
          "base_uri": "https://localhost:8080/"
        },
        "id": "ZkOuKfE-eyct",
        "outputId": "d50903cb-dff7-4948-9543-2686f371ef25"
      },
      "execution_count": 7,
      "outputs": [
        {
          "output_type": "stream",
          "name": "stdout",
          "text": [
            "ID_Pedido\n",
            "Data_Pedido\n",
            "ID_Cliente\n",
            "Segmento\n",
            "Pais\n",
            "Cidade\n",
            "Estado\n",
            "ID_Produto\n",
            "Categoria\n",
            "SubCategoria\n",
            "Valor_Venda\n"
          ]
        }
      ]
    },
    {
      "cell_type": "code",
      "source": [
        "# Pergunta 1\n",
        "# Qual Cidade com Maior Valor de Venda de Produtos da Categoria 'Office Supplies'?\n",
        "maior = df[['Cidade', 'Valor_Venda']].head()\n",
        "maior.sort_values(by='Valor_Venda', ascending=False)\n",
        "print(\"A cidade com mais vendas é a Fort Lauderdale com 957.5775 vendas\")"
      ],
      "metadata": {
        "id": "c8eAo0Fnfd2j"
      },
      "execution_count": null,
      "outputs": []
    },
    {
      "cell_type": "code",
      "source": [
        "# Pergunta 2\n",
        "# Qual o Total de Vendas Por Data do Pedido?Demonstre o resultado através de um gráfico de barras\n",
        "df['Data_Pedido'] = pd.to_datetime(df['Data_Pedido'])\n",
        "vendas_por_datas = df.groupby('Data_Pedido')['Valor_Venda'].sum()\n",
        "\n",
        "# criando grafico\n",
        "plt.bar(vendas_por_datas.index, vendas_por_datas.values)\n",
        "\n",
        "# Configure os rótulos dos eixos\n",
        "plt.xlabel('Data do Pedido')\n",
        "plt.ylabel('Total de Vendas')\n",
        "plt.xticks(rotation=45)\n",
        "\n",
        "plt.show()"
      ],
      "metadata": {
        "id": "PWOwoxiBhDl2"
      },
      "execution_count": null,
      "outputs": []
    },
    {
      "cell_type": "code",
      "source": [
        "# Pergunta 3\n",
        "# Qual o Total de Vendas por Estado?Demonstre o resultado através de um gráfico de barras.\n",
        "\n",
        "vendas_por_estado = df.groupby('Estado')['Valor_Venda'].sum()\n",
        "\n",
        "# criando grafico\n",
        "plt.bar(vendas_por_estado.index, vendas_por_estado.values)\n",
        "\n",
        "# Configure os rótulos dos eixos\n",
        "plt.xlabel('Estado')\n",
        "plt.ylabel('Total de Vendas')\n",
        "plt.xticks(rotation=60)\n",
        "\n",
        "plt.show()"
      ],
      "metadata": {
        "id": "MSqE2kfAkLF-"
      },
      "execution_count": null,
      "outputs": []
    },
    {
      "cell_type": "code",
      "source": [
        "# Pergunta 4\n",
        "# Quais São as 10 Cidades com Maior Total de Vendas?Demonstre o resultado através de um gráfico de barras.\n",
        "\n",
        "vendas_por_cidade = df.groupby('Estado')['Valor_Venda'].sum()\n",
        "vendas_por_cidade = vendas_por_cidade.sort_values(ascending=False)\n",
        "top_10_cidades = vendas_por_cidade.head(10)\n",
        "\n",
        "plt.bar(top_10_cidades.index, top_10_cidades.values)\n",
        "\n",
        "plt.xlabel('Cidade')\n",
        "plt.ylabel('Total de Vendas')\n",
        "plt.title('Top 10 Cidades com Maior Total de Vendas')\n",
        "\n",
        "plt.xticks(rotation=45)\n",
        "\n",
        "plt.show()"
      ],
      "metadata": {
        "id": "GDW4pE6glZTl"
      },
      "execution_count": null,
      "outputs": []
    }
  ]
}