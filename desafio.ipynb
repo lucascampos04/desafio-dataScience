{
  "nbformat": 4,
  "nbformat_minor": 0,
  "metadata": {
    "colab": {
      "provenance": []
    },
    "kernelspec": {
      "name": "python3",
      "display_name": "Python 3"
    },
    "language_info": {
      "name": "python"
    }
  },
  "cells": [
    {
      "cell_type": "code",
      "execution_count": 102,
      "metadata": {
        "id": "IYvMoE5SccOu"
      },
      "outputs": [],
      "source": [
        "import pandas as pd\n",
        "import numpy as np\n",
        "import matplotlib.pyplot as plt\n",
        "import seaborn as sns\n",
        "import datetime as dt"
      ]
    },
    {
      "cell_type": "code",
      "source": [
        "df = pd.read_csv('dataset.csv')\n",
        "df.shape"
      ],
      "metadata": {
        "id": "CgR8a6pTegEW"
      },
      "execution_count": null,
      "outputs": []
    },
    {
      "cell_type": "markdown",
      "source": [
        "ANALISE EXPLORATORIO\n"
      ],
      "metadata": {
        "id": "71jhms9UHRF0"
      }
    },
    {
      "cell_type": "code",
      "source": [
        "df['Valor_Venda'].describe()"
      ],
      "metadata": {
        "id": "_uzZyeSGG3OI"
      },
      "execution_count": null,
      "outputs": []
    },
    {
      "cell_type": "code",
      "source": [
        "df[df.duplicated()]"
      ],
      "metadata": {
        "id": "HvIynzgFHCUA"
      },
      "execution_count": null,
      "outputs": []
    },
    {
      "cell_type": "code",
      "source": [
        "df.isnull().sum()"
      ],
      "metadata": {
        "id": "M_FMZsrSHISq"
      },
      "execution_count": null,
      "outputs": []
    },
    {
      "cell_type": "code",
      "source": [
        "df.isna().sum()"
      ],
      "metadata": {
        "id": "Qj1kIaijHNpH"
      },
      "execution_count": null,
      "outputs": []
    },
    {
      "cell_type": "code",
      "source": [
        "df.dtypes"
      ],
      "metadata": {
        "id": "TZTuES5ZGQVb"
      },
      "execution_count": null,
      "outputs": []
    },
    {
      "cell_type": "code",
      "source": [
        "for i in df.columns:\n",
        "  print(i)"
      ],
      "metadata": {
        "id": "ZkOuKfE-eyct"
      },
      "execution_count": null,
      "outputs": []
    },
    {
      "cell_type": "markdown",
      "source": [
        "PERGUNTA 1"
      ],
      "metadata": {
        "id": "nuuJJTevIJPa"
      }
    },
    {
      "cell_type": "code",
      "source": [
        "# Primeiro filtra a coluna\n",
        "df_pl = df[df['Categoria'] == 'Office Supplies']\n",
        "# Agora eu agrupo as cidades\n",
        "df_pl_total = df_pl.groupby('Cidade')['Valor_Venda'].sum()\n",
        "# Resultado\n",
        "cd_maior_venda = df_pl_total.idxmax()\n",
        "print(f'A cidade com mais vendas é {cd_maior_venda}')"
      ],
      "metadata": {
        "id": "ExoxtXUQFVLu"
      },
      "execution_count": null,
      "outputs": []
    },
    {
      "cell_type": "markdown",
      "source": [
        "PERGUNTA 2"
      ],
      "metadata": {
        "id": "A_BHDVK6JEeo"
      }
    },
    {
      "cell_type": "code",
      "source": [
        "df_p2 = df.groupby('Data_Pedido')['Valor_Venda'].sum()\n",
        "\n",
        "# Criação do grafico\n",
        "plt.figure(figsize = (29, 10))\n",
        "df_p2.plot(x = 'Data_Pedido', y = 'Valor_Venda', color='green')\n",
        "plt.title('Total de vendas por pedido')\n",
        "plt.show()"
      ],
      "metadata": {
        "id": "Px79gfS5JD6X"
      },
      "execution_count": null,
      "outputs": []
    },
    {
      "cell_type": "markdown",
      "source": [
        "PERGUNTA 3"
      ],
      "metadata": {
        "id": "mYpmqrP8LG7b"
      }
    },
    {
      "cell_type": "code",
      "source": [
        "df_p3 = df.groupby('Estado')['Valor_Venda'].sum()\n",
        "\n",
        "# Criação do grafico\n",
        "plt.figure(figsize = (10, 6))\n",
        "df_p3.plot(x = 'Estado', y = 'Valor_Venda', color='blue')\n",
        "plt.show()"
      ],
      "metadata": {
        "id": "DppTsAF8LJbC"
      },
      "execution_count": null,
      "outputs": []
    },
    {
      "cell_type": "markdown",
      "source": [
        "PERGUNTA 4"
      ],
      "metadata": {
        "id": "BQqVzJ40OBEx"
      }
    },
    {
      "cell_type": "code",
      "source": [
        "df_p4 = df.groupby('Cidade')['Valor_Venda'].sum().reset_index().sort_values(by = 'Valor_Venda',\n",
        "                                                                            ascending = False).head(10)\n",
        "df_p4.head(10)\n",
        "plt.figure(figsize = (16, 6))\n",
        "sns.set_palette('coolwarm')\n",
        "sns.barplot(data = df_p4, x = 'Valor_Venda', y = 'Cidade').set(title = 'as 10 cidade com maior total de vendas')\n"
      ],
      "metadata": {
        "id": "iOlZMjWNOCwW"
      },
      "execution_count": null,
      "outputs": []
    },
    {
      "cell_type": "markdown",
      "source": [
        "PERGUNTA 5"
      ],
      "metadata": {
        "id": "xyrbsMwQP33n"
      }
    },
    {
      "cell_type": "code",
      "source": [
        "df_p5 = df.groupby('Segmento')['Valor_Venda'].sum().reset_index().sort_values(by='Valor_Venda', ascending=False)\n",
        "\n",
        "def form(pct):\n",
        "    total = sum(df_p5['Valor_Venda'])\n",
        "    vel = int(round(pct * total / 100.0))\n",
        "    return f'${vel}'\n",
        "\n",
        "plt.figure(figsize=(16, 6))\n",
        "\n",
        "plt.pie(df_p5['Valor_Venda'],\n",
        "        labels=df_p5['Segmento'],\n",
        "        autopct=form,\n",
        "        startangle=90)\n",
        "\n",
        "# Limpa o centro\n",
        "centro = plt.Circle((0, 0), 0.82, fc='white')\n",
        "fig = plt.gcf()\n",
        "fig.gca().add_artist(centro)\n",
        "\n",
        "plt.annotate(text=\"Total de vendas: $\" + str(int(sum(df_p5['Valor_Venda']))), xy=(-0.25, 0))\n",
        "plt.title(\"Total de vendas por segmento\")\n",
        "plt.show()"
      ],
      "metadata": {
        "id": "u1MDgxiAP5ai"
      },
      "execution_count": null,
      "outputs": []
    },
    {
      "cell_type": "markdown",
      "source": [
        "PERGUNTA 6"
      ],
      "metadata": {
        "id": "s67_QeCAUDzz"
      }
    },
    {
      "cell_type": "code",
      "source": [
        "df['Data_Pedido'] = pd.to_datetime(df['Data_Pedido'], dayfirst=True)\n",
        "\n",
        "# Extraindo o ano\n",
        "df['Ano'] = df['Data_Pedido'].dt.year\n",
        "df_p6 = df.groupby(['Ano', 'Segmento'])['Valor_Venda'].sum()\n",
        "df_p6"
      ],
      "metadata": {
        "id": "8D8LhX0aUGfF"
      },
      "execution_count": null,
      "outputs": []
    },
    {
      "cell_type": "markdown",
      "source": [
        "PERGUNTA 7"
      ],
      "metadata": {
        "id": "YzpEwYhyWQRS"
      }
    },
    {
      "cell_type": "code",
      "source": [
        "df['Desconto'] = np.where(df['Valor_Venda'] > 1000, 0.15, 0.10)\n",
        "df['Desconto'].value_counts()\n",
        "print('no total de 457 vendas receberiam 155')"
      ],
      "metadata": {
        "id": "u9lIDGztWSun"
      },
      "execution_count": null,
      "outputs": []
    },
    {
      "cell_type": "markdown",
      "source": [
        "PERGUNTA 8"
      ],
      "metadata": {
        "id": "XrNuqWY-XDCh"
      }
    },
    {
      "cell_type": "code",
      "source": [],
      "metadata": {
        "id": "JztZK2S-XFzo"
      },
      "execution_count": null,
      "outputs": []
    }
  ]
}