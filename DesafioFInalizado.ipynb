{
  "nbformat": 4,
  "nbformat_minor": 0,
  "metadata": {
    "colab": {
      "provenance": []
    },
    "kernelspec": {
      "name": "python3",
      "display_name": "Python 3"
    },
    "language_info": {
      "name": "python"
    }
  },
  "cells": [
    {
      "cell_type": "code",
      "execution_count": 50,
      "metadata": {
        "id": "IYvMoE5SccOu"
      },
      "outputs": [],
      "source": [
        "import pandas as pd\n",
        "import numpy as np\n",
        "import matplotlib.pyplot as plt\n",
        "import seaborn as sns\n",
        "import datetime as dd"
      ]
    },
    {
      "cell_type": "code",
      "source": [
        "df = pd.read_csv('dataset.csv')"
      ],
      "metadata": {
        "id": "CgR8a6pTegEW"
      },
      "execution_count": 92,
      "outputs": []
    },
    {
      "cell_type": "markdown",
      "source": [
        "# ANALISE EXPLORATÓRIA"
      ],
      "metadata": {
        "id": "71jhms9UHRF0"
      }
    },
    {
      "cell_type": "code",
      "source": [
        "df['Valor_Venda'].describe()"
      ],
      "metadata": {
        "id": "_uzZyeSGG3OI"
      },
      "execution_count": null,
      "outputs": []
    },
    {
      "cell_type": "code",
      "source": [
        "df[df.duplicated()]"
      ],
      "metadata": {
        "id": "HvIynzgFHCUA"
      },
      "execution_count": null,
      "outputs": []
    },
    {
      "cell_type": "code",
      "source": [
        "df.isnull().sum()"
      ],
      "metadata": {
        "id": "M_FMZsrSHISq"
      },
      "execution_count": null,
      "outputs": []
    },
    {
      "cell_type": "code",
      "source": [
        "df.isna().sum()"
      ],
      "metadata": {
        "id": "Qj1kIaijHNpH"
      },
      "execution_count": null,
      "outputs": []
    },
    {
      "cell_type": "code",
      "source": [
        "df.dtypes"
      ],
      "metadata": {
        "id": "TZTuES5ZGQVb"
      },
      "execution_count": null,
      "outputs": []
    },
    {
      "cell_type": "code",
      "source": [
        "for i in df.columns:\n",
        "  print(i)"
      ],
      "metadata": {
        "id": "ZkOuKfE-eyct"
      },
      "execution_count": null,
      "outputs": []
    },
    {
      "cell_type": "markdown",
      "source": [
        "PERGUNTA 1"
      ],
      "metadata": {
        "id": "nuuJJTevIJPa"
      }
    },
    {
      "cell_type": "code",
      "source": [
        "# Primeiro filtra a coluna\n",
        "df_pl = df[df['Categoria'] == 'Office Supplies']\n",
        "# Agora eu agrupo as cidades\n",
        "df_pl_total = df_pl.groupby('Cidade')['Valor_Venda'].sum()\n",
        "# Resultado\n",
        "cd_maior_venda = df_pl_total.idxmax()\n",
        "print(f'A cidade com mais vendas é {cd_maior_venda}')"
      ],
      "metadata": {
        "id": "ExoxtXUQFVLu"
      },
      "execution_count": null,
      "outputs": []
    },
    {
      "cell_type": "markdown",
      "source": [
        "PERGUNTA 2"
      ],
      "metadata": {
        "id": "A_BHDVK6JEeo"
      }
    },
    {
      "cell_type": "code",
      "source": [
        "df_p2 = df.groupby('Data_Pedido')['Valor_Venda'].sum()\n",
        "\n",
        "# Criação do grafico\n",
        "plt.figure(figsize = (29, 10))\n",
        "df_p2.plot(x = 'Data_Pedido', y = 'Valor_Venda', color='green')\n",
        "plt.title('Total de vendas por pedido')\n",
        "plt.show()"
      ],
      "metadata": {
        "id": "Px79gfS5JD6X"
      },
      "execution_count": null,
      "outputs": []
    },
    {
      "cell_type": "markdown",
      "source": [
        "PERGUNTA 3"
      ],
      "metadata": {
        "id": "mYpmqrP8LG7b"
      }
    },
    {
      "cell_type": "code",
      "source": [
        "df_p3 = df.groupby('Estado')['Valor_Venda'].sum()\n",
        "\n",
        "# Criação do grafico\n",
        "plt.figure(figsize = (10, 6))\n",
        "df_p3.plot(x = 'Estado', y = 'Valor_Venda', color='blue')\n",
        "plt.show()"
      ],
      "metadata": {
        "id": "DppTsAF8LJbC"
      },
      "execution_count": null,
      "outputs": []
    },
    {
      "cell_type": "markdown",
      "source": [
        "PERGUNTA 4"
      ],
      "metadata": {
        "id": "BQqVzJ40OBEx"
      }
    },
    {
      "cell_type": "code",
      "source": [
        "df_p4 = df.groupby('Cidade')['Valor_Venda'].sum().reset_index().sort_values(by = 'Valor_Venda',\n",
        "                                                                            ascending = False).head(10)\n",
        "df_p4.head(10)\n",
        "plt.figure(figsize = (16, 6))\n",
        "sns.set_palette('coolwarm')\n",
        "sns.barplot(data = df_p4, x = 'Valor_Venda', y = 'Cidade').set(title = 'as 10 cidade com maior total de vendas')\n"
      ],
      "metadata": {
        "id": "iOlZMjWNOCwW"
      },
      "execution_count": null,
      "outputs": []
    },
    {
      "cell_type": "markdown",
      "source": [
        "PERGUNTA 5"
      ],
      "metadata": {
        "id": "xyrbsMwQP33n"
      }
    },
    {
      "cell_type": "code",
      "source": [
        "df_p5 = df.groupby('Segmento')['Valor_Venda'].sum().reset_index().sort_values(by='Valor_Venda', ascending=False)\n",
        "\n",
        "def form(pct):\n",
        "    total = sum(df_p5['Valor_Venda'])\n",
        "    vel = int(round(pct * total / 100.0))\n",
        "    return f'${vel}'\n",
        "\n",
        "plt.figure(figsize=(16, 6))\n",
        "\n",
        "plt.pie(df_p5['Valor_Venda'],\n",
        "        labels=df_p5['Segmento'],\n",
        "        autopct=form,\n",
        "        startangle=90)\n",
        "\n",
        "# Limpa o centro\n",
        "centro = plt.Circle((0, 0), 0.82, fc='white')\n",
        "fig = plt.gcf()\n",
        "fig.gca().add_artist(centro)\n",
        "\n",
        "plt.annotate(text=\"Total de vendas: $\" + str(int(sum(df_p5['Valor_Venda']))), xy=(-0.25, 0))\n",
        "plt.title(\"Total de vendas por segmento\")\n",
        "plt.show()"
      ],
      "metadata": {
        "id": "u1MDgxiAP5ai"
      },
      "execution_count": null,
      "outputs": []
    },
    {
      "cell_type": "markdown",
      "source": [
        "PERGUNTA 6"
      ],
      "metadata": {
        "id": "s67_QeCAUDzz"
      }
    },
    {
      "cell_type": "code",
      "source": [
        "df['Data_Pedido'] = pd.to_datetime(df['Data_Pedido'], dayfirst=True)\n",
        "\n",
        "# Extraindo o ano\n",
        "df['Ano'] = df['Data_Pedido'].dt.year\n",
        "df_p6 = df.groupby(['Ano', 'Segmento'])['Valor_Venda'].sum()\n",
        "df_p6"
      ],
      "metadata": {
        "id": "8D8LhX0aUGfF"
      },
      "execution_count": null,
      "outputs": []
    },
    {
      "cell_type": "markdown",
      "source": [
        "PERGUNTA 7"
      ],
      "metadata": {
        "id": "YzpEwYhyWQRS"
      }
    },
    {
      "cell_type": "code",
      "source": [
        "df['Desconto'] = np.where(df['Valor_Venda'] > 1000, 0.15, 0.10)\n",
        "df['Desconto'].value_counts()\n",
        "print('no total de 457 vendas receberiam 155')"
      ],
      "metadata": {
        "id": "u9lIDGztWSun"
      },
      "execution_count": null,
      "outputs": []
    },
    {
      "cell_type": "code",
      "source": [
        "df.columns"
      ],
      "metadata": {
        "id": "HCWD8aekh8Xn"
      },
      "execution_count": null,
      "outputs": []
    },
    {
      "cell_type": "markdown",
      "source": [
        "PERGUNTA 8"
      ],
      "metadata": {
        "id": "XrNuqWY-XDCh"
      }
    },
    {
      "cell_type": "code",
      "source": [
        "df['Valor_Venda_Desconto'] = df['Valor_Venda'] - (df['Valor_Venda'] * df['Desconto'])\n",
        "\n",
        "# filtrando as vendas antes do desconto\n",
        "df_p8_antes = df.loc[df['Desconto'] == 0.15, 'Valor_Venda']\n",
        "\n",
        "# filtrando as vendas depois do desconto\n",
        "df_p8_depois = df.loc[df['Desconto'] == 0.15, 'Valor_Venda_Desconto']\n",
        "\n",
        "# media antes do desconto\n",
        "media_antes = df_p8_antes.mean()\n",
        "\n",
        "# media depois do desconto\n",
        "media_depois = df_p8_depois.mean()\n",
        "\n",
        "print(\"Media de desconto antes dos 15% : \", round(media_antes, 2))\n",
        "print(\"Media de desconto depois dos 15% : \",round(media_depois, 2))"
      ],
      "metadata": {
        "id": "JztZK2S-XFzo"
      },
      "execution_count": null,
      "outputs": []
    },
    {
      "cell_type": "markdown",
      "source": [
        "PERGUNTA 9"
      ],
      "metadata": {
        "id": "cb6_4xeikqYc"
      }
    },
    {
      "cell_type": "code",
      "source": [
        "df['Mes'] = df['Data_Pedido'].dt.month\n",
        "\n",
        "# arupando por ano, mes e segmento\n",
        "df_p9 = df.groupby(['Ano', 'Mes', 'Segmento'])['Valor_Venda'].agg([np.sum, np.mean, np.median])\n",
        "\n",
        "# extraindo os niveis\n",
        "anos =  df_p9.index.get_level_values(0)\n",
        "meses =  df_p9.index.get_level_values(1)\n",
        "segmento =  df_p9.index.get_level_values(2)\n",
        "\n",
        "df.head()\n",
        "# criando grafico\n",
        "plt.figure(figsize = (12, 6))\n",
        "sns.set()\n",
        "fig1 = sns.relplot(kind = 'line',\n",
        "                  data = df_p9,\n",
        "                  y = 'mean',\n",
        "                  x = meses,\n",
        "                  hue = segmento,\n",
        "                  col = anos,\n",
        "                  col_wrap = 4)\n",
        "plt.show()"
      ],
      "metadata": {
        "id": "HQS7q_CVkr6o"
      },
      "execution_count": null,
      "outputs": []
    },
    {
      "cell_type": "code",
      "source": [
        "df.columns"
      ],
      "metadata": {
        "id": "VFf91m7Os4KD"
      },
      "execution_count": null,
      "outputs": []
    },
    {
      "cell_type": "markdown",
      "source": [
        "PERGUNTA 10"
      ],
      "metadata": {
        "id": "fxWCl2MRoaJu"
      }
    },
    {
      "cell_type": "code",
      "source": [
        "df_p10 = df.groupby(['Categoria',\n",
        "                     'SubCategoria']).sum(numeric_only = True).sort_values('Valor_Venda',\n",
        "                                                                           ascending = False).head(12)\n",
        "\n",
        "df_p10 = df_p10[['Valor_Venda']].astype(int).sort_values(by = 'Categoria').reset_index()\n",
        "df_p10_cat = df_p10.groupby('Categoria').sum(numeric_only = True).reset_index()\n",
        "\n",
        "cores_cat = ['#6e7dd5', '#eb0318', '#eb0318']\n",
        "\n",
        "cores_subcategorias = ['#4634eb', '#eb3459', '#eb34e8',\n",
        "                       '#ebb134', '#d3eb34', '#34eb6b',\n",
        "                       '#d1c3ba', '#0d0b0a', '#eb3434',\n",
        "                       '#63d2d4', '#d463ab', '#d48d63']\n",
        "\n",
        "fig, ax = plt.subplots(figsize = (18, 12))\n",
        "# grafico categoria\n",
        "pl = ax.pie(df_p10_cat ['Valor_Venda'],\n",
        "            radius = 1,\n",
        "            labels = df_p10_cat['Categoria'],\n",
        "            wedgeprops = dict(edgecolor = 'white'),\n",
        "            colors = cores_cat)\n",
        "\n",
        "# grafico subcategoria\n",
        "p2 = ax.pie(df_p10['Valor_Venda'],\n",
        "            radius = 0.9,\n",
        "            labels = df_p10['Categoria'],\n",
        "            colors = cores_subcategorias,\n",
        "            labeldistance = 0.7,\n",
        "            wedgeprops = dict(edgecolor = 'white'),\n",
        "            pctdistance = 0.53,\n",
        "            rotatelabels = True)\n",
        "\n",
        "# limpa o centro\n",
        "centro = plt.Circle((0, 0), 0.6, fc = 'white')\n",
        "\n",
        "fig = plt.gcf()\n",
        "fig.gca().add_artist(centro)\n",
        "plt.annotate(text = 'Total de vendas' + '$' + str(int(sum(df_p10['Valor_Venda']))), xy = (-0.2, 0))\n",
        "plt.title('Total de vendas por categorias e Top 12 subcategorias')\n",
        "plt.show()"
      ],
      "metadata": {
        "id": "0yV6DwZ8sadt"
      },
      "execution_count": null,
      "outputs": []
    },
    {
      "cell_type": "code",
      "source": [
        "df.to_csv('DesafioCompleto.csv')"
      ],
      "metadata": {
        "id": "2iOHPjGX0ZnV"
      },
      "execution_count": 93,
      "outputs": []
    }
  ]
}